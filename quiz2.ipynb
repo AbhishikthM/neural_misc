{
 "cells": [
  {
   "cell_type": "code",
   "execution_count": null,
   "metadata": {},
   "outputs": [],
   "source": [
    "\"\"\"\n",
    "Created on Wed Apr 22 15:21:11 2015\n",
    "\n",
    "@author: rkp\n",
    "\n",
    "Code to compute spike-triggered average.\n",
    "\"\"\"\n",
    "\n",
    "from __future__ import division\n",
    "import numpy as np\n",
    "import matplotlib.pyplot as plt\n",
    "\n",
    "\n",
    "def compute_sta(stim, rho, num_timesteps):\n",
    "    \"\"\"Compute the spike-triggered average from a stimulus and spike-train.\n",
    "    \n",
    "    Args:\n",
    "        stim: stimulus time-series\n",
    "        rho: spike-train time-series\n",
    "        num_timesteps: how many timesteps to use in STA\n",
    "        \n",
    "    Returns:\n",
    "        spike-triggered average for specified number of timesteps before spike\"\"\"\n",
    "    \n",
    "    sta = np.zeros((num_timesteps,))\n",
    "\n",
    "    # This command finds the indices of all of the spikes that occur\n",
    "    # after 300 ms into the recording.\n",
    "    spike_times = rho[num_timesteps:].nonzero()[0] + num_timesteps\n",
    "\n",
    "    # Fill in this value. Note that you should not count spikes that occur\n",
    "    # before 300 ms into the recording.\n",
    "    num_spikes = 0\n",
    "    \n",
    "    # Compute the spike-triggered average of the spikes found.\n",
    "    # To do this, compute the average of all of the vectors\n",
    "    # starting 300 ms (exclusive) before a spike and ending at the time of\n",
    "    # the event (inclusive). Each of these vectors defines a list of\n",
    "    # samples that is contained within a window of 300 ms before each\n",
    "    # spike. The average of these vectors should be completed in an\n",
    "    # element-wise manner.\n",
    "    # \n",
    "    # Your code goes here.\n",
    "    \n",
    "    return sta"
   ]
  },
  {
   "cell_type": "code",
   "execution_count": null,
   "metadata": {},
   "outputs": [
    {
     "ename": "FileNotFoundError",
     "evalue": "[Errno 2] No such file or directory: 'c1p8.pickle'",
     "output_type": "error",
     "traceback": [
      "\u001b[1;31m---------------------------------------------------------------------------\u001b[0m",
      "\u001b[1;31mFileNotFoundError\u001b[0m                         Traceback (most recent call last)",
      "Cell \u001b[1;32mIn[6], line 14\u001b[0m\n\u001b[0;32m      9\u001b[0m \u001b[38;5;28;01mimport\u001b[39;00m\u001b[38;5;250m \u001b[39m\u001b[38;5;21;01mpickle\u001b[39;00m\n\u001b[0;32m     12\u001b[0m FILENAME \u001b[38;5;241m=\u001b[39m \u001b[38;5;124m'\u001b[39m\u001b[38;5;124mc1p8.pickle\u001b[39m\u001b[38;5;124m'\u001b[39m\n\u001b[1;32m---> 14\u001b[0m \u001b[38;5;28;01mwith\u001b[39;00m \u001b[38;5;28;43mopen\u001b[39;49m\u001b[43m(\u001b[49m\u001b[43mFILENAME\u001b[49m\u001b[43m,\u001b[49m\u001b[43m \u001b[49m\u001b[38;5;124;43m'\u001b[39;49m\u001b[38;5;124;43mrb\u001b[39;49m\u001b[38;5;124;43m'\u001b[39;49m\u001b[43m)\u001b[49m \u001b[38;5;28;01mas\u001b[39;00m f:\n\u001b[0;32m     15\u001b[0m     data \u001b[38;5;241m=\u001b[39m pickle\u001b[38;5;241m.\u001b[39mload(f)\n\u001b[0;32m     17\u001b[0m stim \u001b[38;5;241m=\u001b[39m data[\u001b[38;5;124m'\u001b[39m\u001b[38;5;124mstim\u001b[39m\u001b[38;5;124m'\u001b[39m]\n",
      "File \u001b[1;32mf:\\projects\\neural_misc\\.venv\\Lib\\site-packages\\IPython\\core\\interactiveshell.py:324\u001b[0m, in \u001b[0;36m_modified_open\u001b[1;34m(file, *args, **kwargs)\u001b[0m\n\u001b[0;32m    317\u001b[0m \u001b[38;5;28;01mif\u001b[39;00m file \u001b[38;5;129;01min\u001b[39;00m {\u001b[38;5;241m0\u001b[39m, \u001b[38;5;241m1\u001b[39m, \u001b[38;5;241m2\u001b[39m}:\n\u001b[0;32m    318\u001b[0m     \u001b[38;5;28;01mraise\u001b[39;00m \u001b[38;5;167;01mValueError\u001b[39;00m(\n\u001b[0;32m    319\u001b[0m         \u001b[38;5;124mf\u001b[39m\u001b[38;5;124m\"\u001b[39m\u001b[38;5;124mIPython won\u001b[39m\u001b[38;5;124m'\u001b[39m\u001b[38;5;124mt let you open fd=\u001b[39m\u001b[38;5;132;01m{\u001b[39;00mfile\u001b[38;5;132;01m}\u001b[39;00m\u001b[38;5;124m by default \u001b[39m\u001b[38;5;124m\"\u001b[39m\n\u001b[0;32m    320\u001b[0m         \u001b[38;5;124m\"\u001b[39m\u001b[38;5;124mas it is likely to crash IPython. If you know what you are doing, \u001b[39m\u001b[38;5;124m\"\u001b[39m\n\u001b[0;32m    321\u001b[0m         \u001b[38;5;124m\"\u001b[39m\u001b[38;5;124myou can use builtins\u001b[39m\u001b[38;5;124m'\u001b[39m\u001b[38;5;124m open.\u001b[39m\u001b[38;5;124m\"\u001b[39m\n\u001b[0;32m    322\u001b[0m     )\n\u001b[1;32m--> 324\u001b[0m \u001b[38;5;28;01mreturn\u001b[39;00m \u001b[43mio_open\u001b[49m\u001b[43m(\u001b[49m\u001b[43mfile\u001b[49m\u001b[43m,\u001b[49m\u001b[43m \u001b[49m\u001b[38;5;241;43m*\u001b[39;49m\u001b[43margs\u001b[49m\u001b[43m,\u001b[49m\u001b[43m \u001b[49m\u001b[38;5;241;43m*\u001b[39;49m\u001b[38;5;241;43m*\u001b[39;49m\u001b[43mkwargs\u001b[49m\u001b[43m)\u001b[49m\n",
      "\u001b[1;31mFileNotFoundError\u001b[0m: [Errno 2] No such file or directory: 'c1p8.pickle'"
     ]
    }
   ],
   "source": [
    "\"\"\"\n",
    "Quiz 2 code.\n",
    "\"\"\"\n",
    "\n",
    "from __future__ import division\n",
    "import numpy as np\n",
    "import matplotlib.pyplot as plt\n",
    "\n",
    "import pickle\n",
    "\n",
    "\n",
    "FILENAME = 'F:\\projects\\neural_misc\\c1p8.pickle'\n",
    "\n",
    "with open(FILENAME, 'rb') as f:\n",
    "    data = pickle.load(f)\n",
    "    \n",
    "stim = data['stim']\n",
    "rho = data['rho']\n",
    "    \n",
    "\n",
    "# Fill in these values\n",
    "sampling_period = 100# in ms\n",
    "num_timesteps = 100\n",
    "\n",
    "sta = compute_sta(stim, rho, num_timesteps)\n",
    "\n",
    "time = (np.arange(-num_timesteps, 0) + 1) * sampling_period\n",
    "\n",
    "plt.plot(time, sta)\n",
    "plt.xlabel('Time (ms)')\n",
    "plt.ylabel('Stimulus')\n",
    "plt.title('Spike-Triggered Average')\n",
    "\n",
    "plt.show()"
   ]
  },
  {
   "cell_type": "code",
   "execution_count": null,
   "metadata": {},
   "outputs": [],
   "source": []
  }
 ],
 "metadata": {
  "kernelspec": {
   "display_name": ".venv",
   "language": "python",
   "name": "python3"
  },
  "language_info": {
   "codemirror_mode": {
    "name": "ipython",
    "version": 3
   },
   "file_extension": ".py",
   "mimetype": "text/x-python",
   "name": "python",
   "nbconvert_exporter": "python",
   "pygments_lexer": "ipython3",
   "version": "3.12.3"
  }
 },
 "nbformat": 4,
 "nbformat_minor": 2
}
